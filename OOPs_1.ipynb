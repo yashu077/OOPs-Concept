{
 "cells": [
  {
   "cell_type": "markdown",
   "id": "6fd0eef3-2400-4491-bc81-53ccef649cc9",
   "metadata": {},
   "source": [
    "Object Oriented Programing"
   ]
  },
  {
   "cell_type": "markdown",
   "id": "1c10ca71-d8cc-4c31-9adc-f2164f1ef372",
   "metadata": {},
   "source": [
    "1.class ...... helps to make code more useable .. and optimised "
   ]
  },
  {
   "cell_type": "code",
   "execution_count": 1,
   "id": "53560283-6ac6-42c1-9e68-4c9bc8205661",
   "metadata": {},
   "outputs": [],
   "source": [
    "a=5"
   ]
  },
  {
   "cell_type": "code",
   "execution_count": 2,
   "id": "76041193-7a2c-4b19-b53b-089a882a48b7",
   "metadata": {},
   "outputs": [
    {
     "name": "stdout",
     "output_type": "stream",
     "text": [
      "<class 'int'>\n"
     ]
    }
   ],
   "source": [
    "print(type(a))"
   ]
  },
  {
   "cell_type": "raw",
   "id": "189a6566-9c25-4d72-8732-c049640e54e9",
   "metadata": {},
   "source": [
    "this is because a is been initalised as 5 whic is int data type"
   ]
  },
  {
   "cell_type": "code",
   "execution_count": 3,
   "id": "20581cf5-0dc2-4b65-9ca4-fb4e3d2a5fc9",
   "metadata": {},
   "outputs": [
    {
     "name": "stdout",
     "output_type": "stream",
     "text": [
      "<class 'str'>\n"
     ]
    }
   ],
   "source": [
    "print(type('yash'))"
   ]
  },
  {
   "cell_type": "raw",
   "id": "5c893ff4-ab69-43b6-ba0e-4102e6008224",
   "metadata": {},
   "source": [
    "this is because 'yash' is an string "
   ]
  },
  {
   "cell_type": "code",
   "execution_count": null,
   "id": "1081298e-8008-4437-92dd-143c24fe2f7d",
   "metadata": {},
   "outputs": [],
   "source": [
    "\n"
   ]
  },
  {
   "cell_type": "code",
   "execution_count": 4,
   "id": "9e25aad2-14e0-4d50-83ee-df435f8890fe",
   "metadata": {},
   "outputs": [],
   "source": [
    "class test():\n",
    "    pass\n",
    "#pass because we dont want to give any paremeters to the class"
   ]
  },
  {
   "cell_type": "code",
   "execution_count": 9,
   "id": "a0decd09-be69-4d47-a5fd-cd82da6fb0d6",
   "metadata": {},
   "outputs": [],
   "source": [
    "a= test()"
   ]
  },
  {
   "cell_type": "code",
   "execution_count": 7,
   "id": "77f760e9-df71-45d0-925f-3e8065205b68",
   "metadata": {},
   "outputs": [
    {
     "name": "stdout",
     "output_type": "stream",
     "text": [
      "<class 'type'>\n"
     ]
    }
   ],
   "source": [
    "print(type(a))"
   ]
  },
  {
   "cell_type": "code",
   "execution_count": 10,
   "id": "b1b9fa60-82df-45a8-9b94-c0c9dd942743",
   "metadata": {},
   "outputs": [
    {
     "data": {
      "text/plain": [
       "__main__.test"
      ]
     },
     "execution_count": 10,
     "metadata": {},
     "output_type": "execute_result"
    }
   ],
   "source": [
    "type(a)"
   ]
  },
  {
   "cell_type": "code",
   "execution_count": null,
   "id": "ae059e7b-a927-4960-a7ba-7aa56c405d82",
   "metadata": {},
   "outputs": [],
   "source": [
    "\n",
    "\n"
   ]
  },
  {
   "cell_type": "code",
   "execution_count": 5,
   "id": "d929f451-19ae-4c2c-9d8d-d64cd09e5adb",
   "metadata": {},
   "outputs": [],
   "source": [
    "class yash:\n",
    "    def aaa(self):                              #self to poin the class itself\n",
    "        print(\"Hellow Buddy\")\n",
    "        \n",
    "        "
   ]
  },
  {
   "cell_type": "code",
   "execution_count": 10,
   "id": "ef6bdb3c-e473-4bda-8db7-f3ffddc50c16",
   "metadata": {},
   "outputs": [],
   "source": [
    "bbb = yash()           #boject of class/ variable / instance"
   ]
  },
  {
   "cell_type": "code",
   "execution_count": 11,
   "id": "af593860-2cfa-444c-8fe6-f3e070035abf",
   "metadata": {},
   "outputs": [
    {
     "name": "stdout",
     "output_type": "stream",
     "text": [
      "<class '__main__.yash'>\n"
     ]
    }
   ],
   "source": [
    "print(type(bbb))"
   ]
  },
  {
   "cell_type": "code",
   "execution_count": 12,
   "id": "f03a2347-46b6-44de-a1b3-2efa94995c6f",
   "metadata": {},
   "outputs": [
    {
     "name": "stdout",
     "output_type": "stream",
     "text": [
      "Hellow Buddy\n"
     ]
    }
   ],
   "source": [
    "bbb.aaa()"
   ]
  },
  {
   "cell_type": "code",
   "execution_count": 14,
   "id": "ca20507b-cde8-4c19-ad9d-b485bece87cf",
   "metadata": {},
   "outputs": [],
   "source": [
    "aanshi = yash()"
   ]
  },
  {
   "cell_type": "code",
   "execution_count": 15,
   "id": "0d7bfaaa-485b-486e-ac5b-8a216a42e0d2",
   "metadata": {},
   "outputs": [
    {
     "name": "stdout",
     "output_type": "stream",
     "text": [
      "<class '__main__.yash'>\n"
     ]
    }
   ],
   "source": [
    "print(type(aanshi))"
   ]
  },
  {
   "cell_type": "code",
   "execution_count": 16,
   "id": "63612730-bb61-422a-9c10-83b4c01adc40",
   "metadata": {},
   "outputs": [
    {
     "name": "stdout",
     "output_type": "stream",
     "text": [
      "Hellow Buddy\n"
     ]
    }
   ],
   "source": [
    "aanshi.aaa()"
   ]
  },
  {
   "cell_type": "code",
   "execution_count": null,
   "id": "4d7c1eaf-17c1-49d4-8f4e-9ad1fbaf85be",
   "metadata": {},
   "outputs": [],
   "source": []
  },
  {
   "cell_type": "markdown",
   "id": "09a84d30-a371-4838-9868-307660fff7d5",
   "metadata": {},
   "source": [
    "Creating an class of python "
   ]
  },
  {
   "cell_type": "code",
   "execution_count": 17,
   "id": "02ee2908-58b3-4fae-a56b-9b6513d8cc29",
   "metadata": {},
   "outputs": [],
   "source": [
    "class python_student:\n",
    "    def __init__ (self,Student_id,Phone_no,Email_id):    # init is an cunstractor keyword used to take input\n",
    "        self.Student_id = Student_id\n",
    "        self.Phone_no = Phone_no\n",
    "        self.Email_id = Email_id\n",
    "        \n",
    "    def python_student_details(self):\n",
    "        return self.Student_id,self.Phone_no,self.Email_id"
   ]
  },
  {
   "cell_type": "code",
   "execution_count": 23,
   "id": "60d029ea-988b-4500-a00a-1c8ee63495b6",
   "metadata": {},
   "outputs": [],
   "source": [
    "vaibhav = python_student(101,2233445566,\"vaibhav@gmail.com\")"
   ]
  },
  {
   "cell_type": "code",
   "execution_count": 24,
   "id": "5aa73e38-9bb0-4919-8b61-bbf074563023",
   "metadata": {},
   "outputs": [
    {
     "data": {
      "text/plain": [
       "<__main__.python_student at 0x7f98e4f33d60>"
      ]
     },
     "execution_count": 24,
     "metadata": {},
     "output_type": "execute_result"
    }
   ],
   "source": [
    "vaibhav"
   ]
  },
  {
   "cell_type": "code",
   "execution_count": 25,
   "id": "0200bdce-3f86-4f82-8036-070f54a7d087",
   "metadata": {},
   "outputs": [
    {
     "name": "stdout",
     "output_type": "stream",
     "text": [
      "<class '__main__.python_student'>\n"
     ]
    }
   ],
   "source": [
    "print(type(vaibhav))"
   ]
  },
  {
   "cell_type": "code",
   "execution_count": 26,
   "id": "cb3679cd-02aa-4c9d-a5b4-f62219c8c88a",
   "metadata": {},
   "outputs": [
    {
     "data": {
      "text/plain": [
       "(101, 2233445566, 'vaibhav@gmail.com')"
      ]
     },
     "execution_count": 26,
     "metadata": {},
     "output_type": "execute_result"
    }
   ],
   "source": [
    "vaibhav.python_student_details()"
   ]
  },
  {
   "cell_type": "code",
   "execution_count": 29,
   "id": "340059a5-bc62-4913-babc-8184fa8e2861",
   "metadata": {},
   "outputs": [
    {
     "data": {
      "text/plain": [
       "'vaibhav@gmail.com'"
      ]
     },
     "execution_count": 29,
     "metadata": {},
     "output_type": "execute_result"
    }
   ],
   "source": [
    "vaibhav.Email_id"
   ]
  },
  {
   "cell_type": "code",
   "execution_count": 30,
   "id": "3c320663-7a8c-4605-a19d-d384ccbc69fd",
   "metadata": {},
   "outputs": [
    {
     "data": {
      "text/plain": [
       "2233445566"
      ]
     },
     "execution_count": 30,
     "metadata": {},
     "output_type": "execute_result"
    }
   ],
   "source": [
    "vaibhav.Phone_no"
   ]
  },
  {
   "cell_type": "code",
   "execution_count": 31,
   "id": "d1b6cc91-cb81-4f68-aacf-69c1a049c2d2",
   "metadata": {},
   "outputs": [
    {
     "data": {
      "text/plain": [
       "101"
      ]
     },
     "execution_count": 31,
     "metadata": {},
     "output_type": "execute_result"
    }
   ],
   "source": [
    "vaibhav.Student_id"
   ]
  },
  {
   "cell_type": "markdown",
   "id": "f5c24aaf-d3d5-4858-b187-90fd6d078a72",
   "metadata": {},
   "source": [
    "\n",
    "Example 2\n"
   ]
  },
  {
   "cell_type": "code",
   "execution_count": 32,
   "id": "5d04963b-6a5d-4133-ad1a-9fe9b4157a53",
   "metadata": {},
   "outputs": [],
   "source": [
    "class python_student1:\n",
    "    def __init__ (om,Student_id,Phone_no,Email_id):    # init is an cunstractor keyword used to take input\n",
    "        om.Student_id = Student_id                    # the pointer we where using as \"self\" is not defined/or a reserved keyword so we can use it as other wors also like\n",
    "        om.Phone_no = Phone_no\n",
    "        om.Email_id = Email_id\n",
    "        \n",
    "    def python_student_details(om):\n",
    "        return om.Student_id,om.Phone_no,om.Email_id"
   ]
  },
  {
   "cell_type": "code",
   "execution_count": 37,
   "id": "0a7ec56a-1563-45e8-a371-578b8f867b38",
   "metadata": {},
   "outputs": [],
   "source": [
    "naman = python_student1(102,1122334455,'naman@gmail.com')"
   ]
  },
  {
   "cell_type": "code",
   "execution_count": 38,
   "id": "edacebae-950d-484a-830c-f00b4b5bf236",
   "metadata": {},
   "outputs": [
    {
     "data": {
      "text/plain": [
       "(102, 1122334455, 'naman@gmail.com')"
      ]
     },
     "execution_count": 38,
     "metadata": {},
     "output_type": "execute_result"
    }
   ],
   "source": [
    "naman.python_student_details()"
   ]
  },
  {
   "cell_type": "code",
   "execution_count": 39,
   "id": "9a6788fa-330f-441a-913c-c49bb3652b57",
   "metadata": {},
   "outputs": [
    {
     "data": {
      "text/plain": [
       "'naman@gmail.com'"
      ]
     },
     "execution_count": 39,
     "metadata": {},
     "output_type": "execute_result"
    }
   ],
   "source": [
    "naman.Email_id"
   ]
  },
  {
   "cell_type": "code",
   "execution_count": 40,
   "id": "8ed59037-ef85-4264-a099-d1fba8b7813c",
   "metadata": {},
   "outputs": [
    {
     "data": {
      "text/plain": [
       "1122334455"
      ]
     },
     "execution_count": 40,
     "metadata": {},
     "output_type": "execute_result"
    }
   ],
   "source": [
    "naman.Phone_no"
   ]
  },
  {
   "cell_type": "code",
   "execution_count": 41,
   "id": "e7d6cf12-d94e-4c52-8402-e3d68d6acf31",
   "metadata": {},
   "outputs": [
    {
     "data": {
      "text/plain": [
       "102"
      ]
     },
     "execution_count": 41,
     "metadata": {},
     "output_type": "execute_result"
    }
   ],
   "source": [
    "naman.Student_id"
   ]
  },
  {
   "cell_type": "code",
   "execution_count": 42,
   "id": "f706f99d-1e88-48d6-ac8f-11b9ba2739d2",
   "metadata": {},
   "outputs": [
    {
     "data": {
      "text/plain": [
       "<__main__.python_student1 at 0x7f98e44df940>"
      ]
     },
     "execution_count": 42,
     "metadata": {},
     "output_type": "execute_result"
    }
   ],
   "source": [
    "naman"
   ]
  },
  {
   "cell_type": "code",
   "execution_count": 43,
   "id": "f099230a-cc03-4f88-9778-b1439996aaeb",
   "metadata": {},
   "outputs": [
    {
     "name": "stdout",
     "output_type": "stream",
     "text": [
      "<class '__main__.python_student1'>\n"
     ]
    }
   ],
   "source": [
    "print(type(naman))"
   ]
  },
  {
   "cell_type": "code",
   "execution_count": null,
   "id": "3b9a00a3-5d61-443c-9fb7-f4bf010241c9",
   "metadata": {},
   "outputs": [],
   "source": []
  }
 ],
 "metadata": {
  "kernelspec": {
   "display_name": "Python 3 (ipykernel)",
   "language": "python",
   "name": "python3"
  },
  "language_info": {
   "codemirror_mode": {
    "name": "ipython",
    "version": 3
   },
   "file_extension": ".py",
   "mimetype": "text/x-python",
   "name": "python",
   "nbconvert_exporter": "python",
   "pygments_lexer": "ipython3",
   "version": "3.10.8"
  }
 },
 "nbformat": 4,
 "nbformat_minor": 5
}
