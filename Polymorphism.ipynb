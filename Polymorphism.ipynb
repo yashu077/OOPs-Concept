{
 "cells": [
  {
   "cell_type": "markdown",
   "id": "d272eab2-1be9-4fc5-ba7e-5fd517e761b8",
   "metadata": {},
   "source": [
    "What is Polymorphism: The word polymorphism means having many forms. In programming, polymorphism means the same function name (but different signatures) being used for different types. The key difference is the data types and number of arguments used in function."
   ]
  },
  {
   "cell_type": "code",
   "execution_count": 2,
   "id": "29071cef-dc78-4767-81c0-133259695c9a",
   "metadata": {},
   "outputs": [],
   "source": [
    "def aa(a,b):\n",
    "    return a+b"
   ]
  },
  {
   "cell_type": "code",
   "execution_count": 4,
   "id": "d01dac37-bb0b-4ac4-bc33-f4b4b1667a5e",
   "metadata": {},
   "outputs": [
    {
     "data": {
      "text/plain": [
       "9"
      ]
     },
     "execution_count": 4,
     "metadata": {},
     "output_type": "execute_result"
    }
   ],
   "source": [
    "aa(7,2)"
   ]
  },
  {
   "cell_type": "code",
   "execution_count": 7,
   "id": "77bcd6f3-87d8-4ede-a7ee-01891af3ce3d",
   "metadata": {},
   "outputs": [
    {
     "data": {
      "text/plain": [
       "'yash aanshi'"
      ]
     },
     "execution_count": 7,
     "metadata": {},
     "output_type": "execute_result"
    }
   ],
   "source": [
    "aa('yash',' aanshi')"
   ]
  },
  {
   "cell_type": "code",
   "execution_count": 8,
   "id": "ce36a9a3-4d1f-4087-8a7a-68471d429c1b",
   "metadata": {},
   "outputs": [
    {
     "data": {
      "text/plain": [
       "[123, 321, 'yash', 890, 987, 'aanshi']"
      ]
     },
     "execution_count": 8,
     "metadata": {},
     "output_type": "execute_result"
    }
   ],
   "source": [
    "aa([123,321,'yash'],[890,987,'aanshi'])"
   ]
  },
  {
   "cell_type": "markdown",
   "id": "4703ae0e-2d79-492b-aafc-c84748f02826",
   "metadata": {},
   "source": [
    "This is called polymorphysim because the functio is same but the behaviour of the work is been changed like fir datatype int\n",
    "this is performing addition but on the other hand for string this is performing concoginatiom same with list \n",
    "performin list concogination "
   ]
  },
  {
   "cell_type": "code",
   "execution_count": null,
   "id": "c2ba294c-7cee-4dbb-9e86-0fd7078afb42",
   "metadata": {},
   "outputs": [],
   "source": [
    "\n",
    "\n"
   ]
  },
  {
   "cell_type": "code",
   "execution_count": 28,
   "id": "c134bd27-fd3a-4c11-89f6-1fe06e8234ce",
   "metadata": {},
   "outputs": [],
   "source": [
    "class bca:\n",
    "    \n",
    "    def syllabus(self):\n",
    "        print(\"this is my syllabus for BCA\")"
   ]
  },
  {
   "cell_type": "code",
   "execution_count": 29,
   "id": "7bb035b4-5e72-43aa-954a-d0935ce2c11f",
   "metadata": {},
   "outputs": [],
   "source": [
    "class web_dev:\n",
    "    \n",
    "    def syllabus(self):\n",
    "        print(\"this is my syllabus for web-dev\")"
   ]
  },
  {
   "cell_type": "code",
   "execution_count": 30,
   "id": "90860268-a4f5-4dec-b60f-bdb9ed0efd75",
   "metadata": {},
   "outputs": [],
   "source": [
    "def concoginate(x):\n",
    "    for i in x:\n",
    "        i.syllabus()\n",
    "    "
   ]
  },
  {
   "cell_type": "code",
   "execution_count": 31,
   "id": "c533a3be-ef55-48c6-9486-059b0035d565",
   "metadata": {},
   "outputs": [],
   "source": [
    "bca=bca()"
   ]
  },
  {
   "cell_type": "code",
   "execution_count": 32,
   "id": "78c37ff2-3191-412b-8822-c368185210b5",
   "metadata": {},
   "outputs": [],
   "source": [
    "web_dev=web_dev()"
   ]
  },
  {
   "cell_type": "code",
   "execution_count": 33,
   "id": "ab675c47-fd5e-4e49-88f1-d9837188f31e",
   "metadata": {},
   "outputs": [],
   "source": [
    "x=[web_dev,bca]"
   ]
  },
  {
   "cell_type": "code",
   "execution_count": 34,
   "id": "c39bee79-0a2f-4de8-a40a-0e1574585681",
   "metadata": {},
   "outputs": [
    {
     "name": "stdout",
     "output_type": "stream",
     "text": [
      "this is my syllabus for web-dev\n",
      "this is my syllabus for BCA\n"
     ]
    }
   ],
   "source": [
    "concoginate(x)"
   ]
  },
  {
   "cell_type": "code",
   "execution_count": null,
   "id": "eb36e58f-ab62-47b8-96f7-bc5a395110af",
   "metadata": {},
   "outputs": [],
   "source": []
  }
 ],
 "metadata": {
  "kernelspec": {
   "display_name": "Python 3 (ipykernel)",
   "language": "python",
   "name": "python3"
  },
  "language_info": {
   "codemirror_mode": {
    "name": "ipython",
    "version": 3
   },
   "file_extension": ".py",
   "mimetype": "text/x-python",
   "name": "python",
   "nbconvert_exporter": "python",
   "pygments_lexer": "ipython3",
   "version": "3.10.8"
  }
 },
 "nbformat": 4,
 "nbformat_minor": 5
}
